{
 "cells": [
  {
   "cell_type": "markdown",
   "id": "5dbc6d48-81b4-49e5-be92-67dd1861b414",
   "metadata": {},
   "source": [
    "# Indexing"
   ]
  },
  {
   "cell_type": "code",
   "execution_count": 260,
   "id": "d7425cc8-337e-4bdf-a8ab-1eb3731b5746",
   "metadata": {},
   "outputs": [],
   "source": [
    "from langchain.text_splitter import Language\n",
    "from langchain.document_loaders.generic import GenericLoader\n",
    "from langchain.document_loaders.parsers import LanguageParser\n",
    "from langchain.document_loaders import GitLoader\n",
    "import re\n",
    "from langchain.schema import Document\n",
    "import copy\n"
   ]
  },
  {
   "cell_type": "markdown",
   "id": "dfc24dc7-db83-4ebe-a1f4-da3789a8b50f",
   "metadata": {},
   "source": [
    "## Load the Repo"
   ]
  },
  {
   "cell_type": "code",
   "execution_count": 360,
   "id": "d4b360fa-206b-4485-8729-54575aefe6c0",
   "metadata": {},
   "outputs": [],
   "source": [
    "loader = GitLoader(\n",
    "    clone_url=\"https://bitbucket.org/pwrlab/data-ingestion\",\n",
    "    repo_path=\"./src/\",\n",
    "    branch=\"dev\",\n",
    "    file_filter=lambda file_path: file_path.endswith(\".py\"),\n",
    ")"
   ]
  },
  {
   "cell_type": "code",
   "execution_count": 361,
   "id": "82f523cb-874a-40cb-9b6d-858ff24d3b43",
   "metadata": {},
   "outputs": [],
   "source": [
    "data = loader.load()"
   ]
  },
  {
   "cell_type": "code",
   "execution_count": 362,
   "id": "fdf5dcb0-9767-4ee9-9586-8006c408a4db",
   "metadata": {},
   "outputs": [
    {
     "data": {
      "text/plain": [
       "58"
      ]
     },
     "execution_count": 362,
     "metadata": {},
     "output_type": "execute_result"
    }
   ],
   "source": [
    "len(data)"
   ]
  },
  {
   "cell_type": "markdown",
   "id": "456db51d-d5b5-4b6e-b4a6-b989a0c73ea8",
   "metadata": {},
   "source": [
    "## Splitting the Code\n",
    "Split the code in a context aware way and add summary data to the metadata."
   ]
  },
  {
   "cell_type": "code",
   "execution_count": 364,
   "id": "e31dca8e-45d9-4250-9ce2-a7106e8d2e87",
   "metadata": {},
   "outputs": [],
   "source": [
    "from langchain.chat_models import ChatOpenAI\n",
    "import os"
   ]
  },
  {
   "cell_type": "code",
   "execution_count": 365,
   "id": "3bdd9397-7655-4854-b551-70aca815b54e",
   "metadata": {},
   "outputs": [],
   "source": [
    "from dotenv import load_dotenv, find_dotenv\n",
    "_ = load_dotenv(find_dotenv())"
   ]
  },
  {
   "cell_type": "code",
   "execution_count": 366,
   "id": "61b14410-8d2f-44f6-ae5d-8226b61eb507",
   "metadata": {},
   "outputs": [],
   "source": [
    "OPENAI_API_KEY = os.getenv('OPENAI_API_KEY')"
   ]
  },
  {
   "cell_type": "code",
   "execution_count": 367,
   "id": "328a6a6e-439e-4b5d-9eaf-9948504ff494",
   "metadata": {},
   "outputs": [],
   "source": [
    "llm = ChatOpenAI(model='gpt-4', temperature=0)"
   ]
  },
  {
   "cell_type": "code",
   "execution_count": 368,
   "id": "f038a253-d3da-46c1-939d-efa2c097b8e5",
   "metadata": {},
   "outputs": [],
   "source": [
    "from langchain.schema import (\n",
    "    AIMessage,\n",
    "    HumanMessage,\n",
    "    SystemMessage\n",
    ")"
   ]
  },
  {
   "cell_type": "code",
   "execution_count": 369,
   "id": "9a2b7aac-accc-481d-b4ea-4bb8a6d0f07a",
   "metadata": {},
   "outputs": [],
   "source": [
    "system_message = '''Summarize code contained in the document in a single sentence with no more than 25 words. \n",
    "'''"
   ]
  },
  {
   "cell_type": "code",
   "execution_count": 370,
   "id": "d4657e83-5e27-4337-b630-75ae730b630c",
   "metadata": {},
   "outputs": [],
   "source": [
    "import re\n",
    "\n",
    "def parse_content(content):\n",
    "    parts = re.split(r'(?=def )', content)\n",
    "    \n",
    "    imports = []\n",
    "    variables = []\n",
    "    functions = []\n",
    "    \n",
    "    for part in parts:\n",
    "        part = part.strip()\n",
    "        if part.startswith('from ') or part.startswith('import '):\n",
    "            imports.append(part)\n",
    "        elif part.startswith('def ')or part.startswith('class '):\n",
    "            functions.append(part)\n",
    "        elif part:\n",
    "            variables.append(part)\n",
    "    \n",
    "    return {\n",
    "        'imports': imports,\n",
    "        'variables': variables,\n",
    "        'functions': functions\n",
    "    }"
   ]
  },
  {
   "cell_type": "code",
   "execution_count": 371,
   "id": "60b7e9db-a731-4fa6-a5d3-4b5c769d841e",
   "metadata": {},
   "outputs": [
    {
     "name": "stderr",
     "output_type": "stream",
     "text": [
      "Retrying langchain.chat_models.openai.ChatOpenAI.completion_with_retry.<locals>._completion_with_retry in 4.0 seconds as it raised RateLimitError: Rate limit reached for gpt-4 in organization org-hIGwihMGYwCXLfkEAXet778V on tokens per min. Limit: 10000 / min. Please try again in 6ms. Contact us through our help center at help.openai.com if you continue to have issues..\n",
      "Retrying langchain.chat_models.openai.ChatOpenAI.completion_with_retry.<locals>._completion_with_retry in 4.0 seconds as it raised RateLimitError: Rate limit reached for gpt-4 in organization org-hIGwihMGYwCXLfkEAXet778V on tokens per min. Limit: 10000 / min. Please try again in 6ms. Contact us through our help center at help.openai.com if you continue to have issues..\n",
      "Retrying langchain.chat_models.openai.ChatOpenAI.completion_with_retry.<locals>._completion_with_retry in 4.0 seconds as it raised RateLimitError: Rate limit reached for gpt-4 in organization org-hIGwihMGYwCXLfkEAXet778V on tokens per min. Limit: 10000 / min. Please try again in 6ms. Contact us through our help center at help.openai.com if you continue to have issues..\n",
      "Retrying langchain.chat_models.openai.ChatOpenAI.completion_with_retry.<locals>._completion_with_retry in 4.0 seconds as it raised RateLimitError: Rate limit reached for gpt-4 in organization org-hIGwihMGYwCXLfkEAXet778V on tokens per min. Limit: 10000 / min. Please try again in 6ms. Contact us through our help center at help.openai.com if you continue to have issues..\n",
      "Retrying langchain.chat_models.openai.ChatOpenAI.completion_with_retry.<locals>._completion_with_retry in 4.0 seconds as it raised RateLimitError: Rate limit reached for gpt-4 in organization org-hIGwihMGYwCXLfkEAXet778V on tokens per min. Limit: 10000 / min. Please try again in 6ms. Contact us through our help center at help.openai.com if you continue to have issues..\n",
      "Retrying langchain.chat_models.openai.ChatOpenAI.completion_with_retry.<locals>._completion_with_retry in 4.0 seconds as it raised RateLimitError: Rate limit reached for gpt-4 in organization org-hIGwihMGYwCXLfkEAXet778V on tokens per min. Limit: 10000 / min. Please try again in 6ms. Contact us through our help center at help.openai.com if you continue to have issues..\n",
      "Retrying langchain.chat_models.openai.ChatOpenAI.completion_with_retry.<locals>._completion_with_retry in 4.0 seconds as it raised RateLimitError: Rate limit reached for gpt-4 in organization org-hIGwihMGYwCXLfkEAXet778V on tokens per min. Limit: 10000 / min. Please try again in 6ms. Contact us through our help center at help.openai.com if you continue to have issues..\n",
      "Retrying langchain.chat_models.openai.ChatOpenAI.completion_with_retry.<locals>._completion_with_retry in 4.0 seconds as it raised RateLimitError: Rate limit reached for gpt-4 in organization org-hIGwihMGYwCXLfkEAXet778V on tokens per min. Limit: 10000 / min. Please try again in 6ms. Contact us through our help center at help.openai.com if you continue to have issues..\n",
      "Retrying langchain.chat_models.openai.ChatOpenAI.completion_with_retry.<locals>._completion_with_retry in 4.0 seconds as it raised RateLimitError: Rate limit reached for gpt-4 in organization org-hIGwihMGYwCXLfkEAXet778V on tokens per min. Limit: 10000 / min. Please try again in 6ms. Contact us through our help center at help.openai.com if you continue to have issues..\n",
      "Retrying langchain.chat_models.openai.ChatOpenAI.completion_with_retry.<locals>._completion_with_retry in 4.0 seconds as it raised RateLimitError: Rate limit reached for gpt-4 in organization org-hIGwihMGYwCXLfkEAXet778V on tokens per min. Limit: 10000 / min. Please try again in 6ms. Contact us through our help center at help.openai.com if you continue to have issues..\n",
      "Retrying langchain.chat_models.openai.ChatOpenAI.completion_with_retry.<locals>._completion_with_retry in 4.0 seconds as it raised RateLimitError: Rate limit reached for gpt-4 in organization org-hIGwihMGYwCXLfkEAXet778V on tokens per min. Limit: 10000 / min. Please try again in 6ms. Contact us through our help center at help.openai.com if you continue to have issues..\n",
      "Retrying langchain.chat_models.openai.ChatOpenAI.completion_with_retry.<locals>._completion_with_retry in 4.0 seconds as it raised RateLimitError: Rate limit reached for gpt-4 in organization org-hIGwihMGYwCXLfkEAXet778V on tokens per min. Limit: 10000 / min. Please try again in 6ms. Contact us through our help center at help.openai.com if you continue to have issues..\n",
      "Retrying langchain.chat_models.openai.ChatOpenAI.completion_with_retry.<locals>._completion_with_retry in 4.0 seconds as it raised RateLimitError: Rate limit reached for gpt-4 in organization org-hIGwihMGYwCXLfkEAXet778V on tokens per min. Limit: 10000 / min. Please try again in 6ms. Contact us through our help center at help.openai.com if you continue to have issues..\n",
      "Retrying langchain.chat_models.openai.ChatOpenAI.completion_with_retry.<locals>._completion_with_retry in 4.0 seconds as it raised RateLimitError: Rate limit reached for gpt-4 in organization org-hIGwihMGYwCXLfkEAXet778V on tokens per min. Limit: 10000 / min. Please try again in 6ms. Contact us through our help center at help.openai.com if you continue to have issues..\n",
      "Retrying langchain.chat_models.openai.ChatOpenAI.completion_with_retry.<locals>._completion_with_retry in 4.0 seconds as it raised RateLimitError: Rate limit reached for gpt-4 in organization org-hIGwihMGYwCXLfkEAXet778V on tokens per min. Limit: 10000 / min. Please try again in 6ms. Contact us through our help center at help.openai.com if you continue to have issues..\n",
      "Retrying langchain.chat_models.openai.ChatOpenAI.completion_with_retry.<locals>._completion_with_retry in 4.0 seconds as it raised RateLimitError: Rate limit reached for gpt-4 in organization org-hIGwihMGYwCXLfkEAXet778V on tokens per min. Limit: 10000 / min. Please try again in 6ms. Contact us through our help center at help.openai.com if you continue to have issues..\n",
      "Retrying langchain.chat_models.openai.ChatOpenAI.completion_with_retry.<locals>._completion_with_retry in 4.0 seconds as it raised RateLimitError: Rate limit reached for gpt-4 in organization org-hIGwihMGYwCXLfkEAXet778V on tokens per min. Limit: 10000 / min. Please try again in 6ms. Contact us through our help center at help.openai.com if you continue to have issues..\n",
      "Retrying langchain.chat_models.openai.ChatOpenAI.completion_with_retry.<locals>._completion_with_retry in 4.0 seconds as it raised RateLimitError: Rate limit reached for gpt-4 in organization org-hIGwihMGYwCXLfkEAXet778V on tokens per min. Limit: 10000 / min. Please try again in 6ms. Contact us through our help center at help.openai.com if you continue to have issues..\n",
      "Retrying langchain.chat_models.openai.ChatOpenAI.completion_with_retry.<locals>._completion_with_retry in 8.0 seconds as it raised RateLimitError: Rate limit reached for gpt-4 in organization org-hIGwihMGYwCXLfkEAXet778V on tokens per min. Limit: 10000 / min. Please try again in 6ms. Contact us through our help center at help.openai.com if you continue to have issues..\n",
      "Retrying langchain.chat_models.openai.ChatOpenAI.completion_with_retry.<locals>._completion_with_retry in 4.0 seconds as it raised RateLimitError: Rate limit reached for gpt-4 in organization org-hIGwihMGYwCXLfkEAXet778V on tokens per min. Limit: 10000 / min. Please try again in 6ms. Contact us through our help center at help.openai.com if you continue to have issues..\n",
      "Retrying langchain.chat_models.openai.ChatOpenAI.completion_with_retry.<locals>._completion_with_retry in 4.0 seconds as it raised RateLimitError: Rate limit reached for gpt-4 in organization org-hIGwihMGYwCXLfkEAXet778V on tokens per min. Limit: 10000 / min. Please try again in 6ms. Contact us through our help center at help.openai.com if you continue to have issues..\n",
      "Retrying langchain.chat_models.openai.ChatOpenAI.completion_with_retry.<locals>._completion_with_retry in 4.0 seconds as it raised RateLimitError: Rate limit reached for gpt-4 in organization org-hIGwihMGYwCXLfkEAXet778V on tokens per min. Limit: 10000 / min. Please try again in 6ms. Contact us through our help center at help.openai.com if you continue to have issues..\n",
      "Retrying langchain.chat_models.openai.ChatOpenAI.completion_with_retry.<locals>._completion_with_retry in 8.0 seconds as it raised RateLimitError: Rate limit reached for gpt-4 in organization org-hIGwihMGYwCXLfkEAXet778V on tokens per min. Limit: 10000 / min. Please try again in 6ms. Contact us through our help center at help.openai.com if you continue to have issues..\n",
      "Retrying langchain.chat_models.openai.ChatOpenAI.completion_with_retry.<locals>._completion_with_retry in 10.0 seconds as it raised RateLimitError: Rate limit reached for gpt-4 in organization org-hIGwihMGYwCXLfkEAXet778V on tokens per min. Limit: 10000 / min. Please try again in 6ms. Contact us through our help center at help.openai.com if you continue to have issues..\n",
      "Retrying langchain.chat_models.openai.ChatOpenAI.completion_with_retry.<locals>._completion_with_retry in 4.0 seconds as it raised RateLimitError: Rate limit reached for gpt-4 in organization org-hIGwihMGYwCXLfkEAXet778V on tokens per min. Limit: 10000 / min. Please try again in 6ms. Contact us through our help center at help.openai.com if you continue to have issues..\n",
      "Retrying langchain.chat_models.openai.ChatOpenAI.completion_with_retry.<locals>._completion_with_retry in 4.0 seconds as it raised RateLimitError: Rate limit reached for gpt-4 in organization org-hIGwihMGYwCXLfkEAXet778V on tokens per min. Limit: 10000 / min. Please try again in 6ms. Contact us through our help center at help.openai.com if you continue to have issues..\n",
      "Retrying langchain.chat_models.openai.ChatOpenAI.completion_with_retry.<locals>._completion_with_retry in 4.0 seconds as it raised RateLimitError: Rate limit reached for gpt-4 in organization org-hIGwihMGYwCXLfkEAXet778V on tokens per min. Limit: 10000 / min. Please try again in 6ms. Contact us through our help center at help.openai.com if you continue to have issues..\n",
      "Retrying langchain.chat_models.openai.ChatOpenAI.completion_with_retry.<locals>._completion_with_retry in 4.0 seconds as it raised RateLimitError: Rate limit reached for gpt-4 in organization org-hIGwihMGYwCXLfkEAXet778V on tokens per min. Limit: 10000 / min. Please try again in 6ms. Contact us through our help center at help.openai.com if you continue to have issues..\n",
      "Retrying langchain.chat_models.openai.ChatOpenAI.completion_with_retry.<locals>._completion_with_retry in 4.0 seconds as it raised RateLimitError: Rate limit reached for gpt-4 in organization org-hIGwihMGYwCXLfkEAXet778V on tokens per min. Limit: 10000 / min. Please try again in 6ms. Contact us through our help center at help.openai.com if you continue to have issues..\n",
      "Retrying langchain.chat_models.openai.ChatOpenAI.completion_with_retry.<locals>._completion_with_retry in 4.0 seconds as it raised RateLimitError: Rate limit reached for gpt-4 in organization org-hIGwihMGYwCXLfkEAXet778V on tokens per min. Limit: 10000 / min. Please try again in 6ms. Contact us through our help center at help.openai.com if you continue to have issues..\n",
      "Retrying langchain.chat_models.openai.ChatOpenAI.completion_with_retry.<locals>._completion_with_retry in 4.0 seconds as it raised RateLimitError: Rate limit reached for gpt-4 in organization org-hIGwihMGYwCXLfkEAXet778V on tokens per min. Limit: 10000 / min. Please try again in 6ms. Contact us through our help center at help.openai.com if you continue to have issues..\n",
      "Retrying langchain.chat_models.openai.ChatOpenAI.completion_with_retry.<locals>._completion_with_retry in 4.0 seconds as it raised RateLimitError: Rate limit reached for gpt-4 in organization org-hIGwihMGYwCXLfkEAXet778V on tokens per min. Limit: 10000 / min. Please try again in 6ms. Contact us through our help center at help.openai.com if you continue to have issues..\n",
      "Retrying langchain.chat_models.openai.ChatOpenAI.completion_with_retry.<locals>._completion_with_retry in 4.0 seconds as it raised RateLimitError: Rate limit reached for gpt-4 in organization org-hIGwihMGYwCXLfkEAXet778V on tokens per min. Limit: 10000 / min. Please try again in 6ms. Contact us through our help center at help.openai.com if you continue to have issues..\n",
      "Retrying langchain.chat_models.openai.ChatOpenAI.completion_with_retry.<locals>._completion_with_retry in 4.0 seconds as it raised RateLimitError: Rate limit reached for gpt-4 in organization org-hIGwihMGYwCXLfkEAXet778V on tokens per min. Limit: 10000 / min. Please try again in 6ms. Contact us through our help center at help.openai.com if you continue to have issues..\n",
      "Retrying langchain.chat_models.openai.ChatOpenAI.completion_with_retry.<locals>._completion_with_retry in 8.0 seconds as it raised RateLimitError: Rate limit reached for gpt-4 in organization org-hIGwihMGYwCXLfkEAXet778V on tokens per min. Limit: 10000 / min. Please try again in 6ms. Contact us through our help center at help.openai.com if you continue to have issues..\n",
      "Retrying langchain.chat_models.openai.ChatOpenAI.completion_with_retry.<locals>._completion_with_retry in 4.0 seconds as it raised RateLimitError: Rate limit reached for gpt-4 in organization org-hIGwihMGYwCXLfkEAXet778V on tokens per min. Limit: 10000 / min. Please try again in 6ms. Contact us through our help center at help.openai.com if you continue to have issues..\n",
      "Retrying langchain.chat_models.openai.ChatOpenAI.completion_with_retry.<locals>._completion_with_retry in 4.0 seconds as it raised RateLimitError: Rate limit reached for gpt-4 in organization org-hIGwihMGYwCXLfkEAXet778V on tokens per min. Limit: 10000 / min. Please try again in 6ms. Contact us through our help center at help.openai.com if you continue to have issues..\n",
      "Retrying langchain.chat_models.openai.ChatOpenAI.completion_with_retry.<locals>._completion_with_retry in 4.0 seconds as it raised RateLimitError: Rate limit reached for gpt-4 in organization org-hIGwihMGYwCXLfkEAXet778V on tokens per min. Limit: 10000 / min. Please try again in 6ms. Contact us through our help center at help.openai.com if you continue to have issues..\n",
      "Retrying langchain.chat_models.openai.ChatOpenAI.completion_with_retry.<locals>._completion_with_retry in 4.0 seconds as it raised RateLimitError: Rate limit reached for gpt-4 in organization org-hIGwihMGYwCXLfkEAXet778V on tokens per min. Limit: 10000 / min. Please try again in 6ms. Contact us through our help center at help.openai.com if you continue to have issues..\n",
      "Retrying langchain.chat_models.openai.ChatOpenAI.completion_with_retry.<locals>._completion_with_retry in 4.0 seconds as it raised RateLimitError: Rate limit reached for gpt-4 in organization org-hIGwihMGYwCXLfkEAXet778V on tokens per min. Limit: 10000 / min. Please try again in 6ms. Contact us through our help center at help.openai.com if you continue to have issues..\n",
      "Retrying langchain.chat_models.openai.ChatOpenAI.completion_with_retry.<locals>._completion_with_retry in 4.0 seconds as it raised RateLimitError: Rate limit reached for gpt-4 in organization org-hIGwihMGYwCXLfkEAXet778V on tokens per min. Limit: 10000 / min. Please try again in 6ms. Contact us through our help center at help.openai.com if you continue to have issues..\n",
      "Retrying langchain.chat_models.openai.ChatOpenAI.completion_with_retry.<locals>._completion_with_retry in 4.0 seconds as it raised RateLimitError: Rate limit reached for gpt-4 in organization org-hIGwihMGYwCXLfkEAXet778V on tokens per min. Limit: 10000 / min. Please try again in 6ms. Contact us through our help center at help.openai.com if you continue to have issues..\n"
     ]
    }
   ],
   "source": [
    "import copy\n",
    "\n",
    "word_count = 1000\n",
    "documents = []\n",
    "\n",
    "def generate_summary(content, metadata):\n",
    "    messages = [\n",
    "        SystemMessage(content=system_message),\n",
    "        HumanMessage(content=f'{content}, {metadata}')\n",
    "    ]\n",
    "    aimessage = llm(messages)\n",
    "    return aimessage.content\n",
    "\n",
    "def create_document(content, metadata, summary):\n",
    "    metadata_copy = copy.deepcopy(metadata)  # Create a deep copy of metadata\n",
    "    metadata_copy['summary'] = summary  # Set the summary on the copied metadata\n",
    "    doc = Document(page_content=content, metadata=metadata_copy)  # Use the copied metadata\n",
    "    return doc\n",
    "\n",
    "for file in data:\n",
    "    if len(file.page_content.split()) > word_count:\n",
    "        doc_dict = parse_content(file.page_content)\n",
    "        for section, content_list in doc_dict.items():\n",
    "            for content in content_list:\n",
    "                summary = generate_summary(content, file.metadata)\n",
    "                doc = create_document(content, file.metadata, summary)\n",
    "                documents.append(doc)  \n",
    "    else:\n",
    "        summary = generate_summary(file.page_content, file.metadata)\n",
    "        doc = create_document(file.page_content, file.metadata, summary)\n",
    "        documents.append(doc) "
   ]
  },
  {
   "cell_type": "code",
   "execution_count": 372,
   "id": "6695f678-72d1-4aef-96e1-49f3425a24ba",
   "metadata": {},
   "outputs": [
    {
     "data": {
      "text/plain": [
       "190"
      ]
     },
     "execution_count": 372,
     "metadata": {},
     "output_type": "execute_result"
    }
   ],
   "source": [
    "len(documents)"
   ]
  },
  {
   "cell_type": "code",
   "execution_count": 374,
   "id": "53d8ec8e-3acf-442e-a4d4-af45ce2fb9ad",
   "metadata": {},
   "outputs": [
    {
     "data": {
      "text/plain": [
       "Document(page_content=\"def _uv_dose(workout, samples):\\n    for field in ['corrected', 'clearsky']:\\n        workout[f'uv_dose_{field}'] = (samples[f'uv_intensity_{field}'] * samples['elapsed_time_delta']).sum()\\n        workout[f'uv_dose_{field}'].fillna(0)\", metadata={'source': 'domain/silver/workouts.py', 'file_path': 'domain/silver/workouts.py', 'file_name': 'workouts.py', 'file_type': '.py', 'summary': \"The code calculates the UV dose for 'corrected' and 'clearsky' fields in a workout by multiplying UV intensity with elapsed time.\"})"
      ]
     },
     "execution_count": 374,
     "metadata": {},
     "output_type": "execute_result"
    }
   ],
   "source": [
    "documents[140]"
   ]
  },
  {
   "cell_type": "markdown",
   "id": "b17e4269-cc34-4f9c-ad31-9ceda2373690",
   "metadata": {},
   "source": [
    "## Embed and Load in a Vector Store"
   ]
  },
  {
   "cell_type": "code",
   "execution_count": 379,
   "id": "76e0ad50-c880-40a8-8693-fc9041237620",
   "metadata": {},
   "outputs": [],
   "source": [
    "from langchain.embeddings.openai import OpenAIEmbeddings\n",
    "from langchain.vectorstores import FAISS"
   ]
  },
  {
   "cell_type": "code",
   "execution_count": 377,
   "id": "82506b03-2580-4d5a-a936-9eb8ec761eaa",
   "metadata": {},
   "outputs": [],
   "source": [
    "embeddings = OpenAIEmbeddings()"
   ]
  },
  {
   "cell_type": "code",
   "execution_count": 380,
   "id": "5f3951a3-90f2-419e-a1bc-44d82999ee99",
   "metadata": {},
   "outputs": [
    {
     "name": "stderr",
     "output_type": "stream",
     "text": [
      "Retrying langchain.embeddings.openai.embed_with_retry.<locals>._embed_with_retry in 4.0 seconds as it raised APIConnectionError: Error communicating with OpenAI: ('Connection aborted.', ConnectionResetError(54, 'Connection reset by peer')).\n"
     ]
    }
   ],
   "source": [
    "try:\n",
    "    vectordb = FAISS.from_documents(documents, embeddings)\n",
    "except ConnectionError as e:\n",
    "    print(f\"Unexpected status code: {e.status_code}, with response body: {e.response_body}\")"
   ]
  },
  {
   "cell_type": "code",
   "execution_count": 381,
   "id": "8d3706f5-dfc0-4a06-9fb7-e162c725aa42",
   "metadata": {},
   "outputs": [],
   "source": [
    "vectordb.save_local(\"faiss_index\")"
   ]
  },
  {
   "cell_type": "code",
   "execution_count": 382,
   "id": "b3025978-51c0-4581-8adf-40aa3e0dfecd",
   "metadata": {},
   "outputs": [],
   "source": [
    "# Example Search\n",
    "query = \"How is UV Dose calculated\"\n",
    "docs = vectordb.similarity_search(query)"
   ]
  },
  {
   "cell_type": "code",
   "execution_count": 383,
   "id": "371d70c1-1039-48c4-a0ec-2fd36a530372",
   "metadata": {},
   "outputs": [
    {
     "data": {
      "text/plain": [
       "4"
      ]
     },
     "execution_count": 383,
     "metadata": {},
     "output_type": "execute_result"
    }
   ],
   "source": [
    "len(docs)"
   ]
  },
  {
   "cell_type": "code",
   "execution_count": 385,
   "id": "6a03408e-f3be-4204-a6de-92153ef6a798",
   "metadata": {},
   "outputs": [
    {
     "data": {
      "text/plain": [
       "Document(page_content=\"def _uv_dose(workout, samples):\\n    for field in ['corrected', 'clearsky']:\\n        workout[f'uv_dose_{field}'] = (samples[f'uv_intensity_{field}'] * samples['elapsed_time_delta']).sum()\\n        workout[f'uv_dose_{field}'].fillna(0)\", metadata={'source': 'domain/silver/workouts.py', 'file_path': 'domain/silver/workouts.py', 'file_name': 'workouts.py', 'file_type': '.py', 'summary': \"The code calculates the UV dose for 'corrected' and 'clearsky' fields in a workout by multiplying UV intensity with elapsed time.\"})"
      ]
     },
     "execution_count": 385,
     "metadata": {},
     "output_type": "execute_result"
    }
   ],
   "source": [
    "docs[0]"
   ]
  },
  {
   "cell_type": "code",
   "execution_count": 386,
   "id": "e3b38c8a-541a-4270-acaa-808ca7e4f6cf",
   "metadata": {},
   "outputs": [
    {
     "data": {
      "text/plain": [
       "Document(page_content=\"def _average_uvi(workout):\\n    for field in ['corrected', 'clearsky']:\\n        workout[f'average_uvi_{field}'] = (workout[f'uv_dose_{field}'] * 40) / workout['elapsed_duration']\\n        workout[f'average_uvi_{field}'] = workout[f'average_uvi_{field}'].replace([np.inf, -np.inf], np.nan)\", metadata={'source': 'domain/silver/workouts.py', 'file_path': 'domain/silver/workouts.py', 'file_name': 'workouts.py', 'file_type': '.py', 'summary': \"The code calculates the average UV index for two fields ('corrected', 'clearsky') in a workout dataset and replaces infinite values with NaN.\"})"
      ]
     },
     "execution_count": 386,
     "metadata": {},
     "output_type": "execute_result"
    }
   ],
   "source": [
    "docs[1]"
   ]
  },
  {
   "cell_type": "code",
   "execution_count": 387,
   "id": "5ed6fcc2-0e7c-449c-a9e6-fa9c660766a0",
   "metadata": {},
   "outputs": [
    {
     "data": {
      "text/plain": [
       "Document(page_content=\"def _running_uv_dose(history, snapshots, start):\\n    if history.empty:\\n        return\\n\\n    # Put workouts into daily buckets and aggregate the number of workouts per day.\\n    history['day'] = history['local_start_time'].dt.date\\n    workouts_by_day = history.groupby('day').agg({\\n        'uv_dose_corrected': 'sum',\\n    })\\n    start = min(\\n        history['local_start_time'].min(),\\n        start - timedelta(weeks=26)\\n    )\\n    workouts_by_day = workouts_by_day.reindex(\\n        pd.date_range(start, datetime.now(), normalize=True)\\n    )\\n    workouts_by_day['uv_dose_corrected'].fillna(value=0, inplace=True)\\n    for period in (1, 7, 28):\\n        workouts_by_day[f'running_uv_dose_{period}d'] = \\\\\\n            workouts_by_day['uv_dose_corrected'].rolling(window=f'{period} D', min_periods=0).sum()\\n        # Merge running_uv_dose back into snapshots\\n    return snapshots.merge(\\n        workouts_by_day, how='left', left_on='timestamp', right_index=True, suffixes=['_x', '']\\n    )\", metadata={'source': 'domain/gold/workouts.py', 'file_path': 'domain/gold/workouts.py', 'file_name': 'workouts.py', 'file_type': '.py', 'summary': 'The code calculates the running UV dose over different periods (1, 7, 28 days) from workout history and merges the results back into the snapshots data.'})"
      ]
     },
     "execution_count": 387,
     "metadata": {},
     "output_type": "execute_result"
    }
   ],
   "source": [
    "docs[2]"
   ]
  },
  {
   "cell_type": "code",
   "execution_count": 388,
   "id": "cd03e598-d3ac-4553-9bf4-3679d32044a7",
   "metadata": {},
   "outputs": [
    {
     "data": {
      "text/plain": [
       "Document(page_content=\"def _uv_intensity(samples):\\n    samples['uv_intensity_clearsky'] = samples['clear_sky_uv_index'] / 40\\n    samples['uv_intensity_corrected'] = samples['corrected_uv_index'] / 40\", metadata={'source': 'domain/silver/workouts.py', 'file_path': 'domain/silver/workouts.py', 'file_name': 'workouts.py', 'file_type': '.py', 'summary': 'The code calculates the UV intensity for clear sky and corrected UV index by dividing respective values by 40.'})"
      ]
     },
     "execution_count": 388,
     "metadata": {},
     "output_type": "execute_result"
    }
   ],
   "source": [
    "docs[3]"
   ]
  },
  {
   "cell_type": "code",
   "execution_count": null,
   "id": "56fb89d2-c065-4866-be30-9a42619806f2",
   "metadata": {},
   "outputs": [],
   "source": []
  }
 ],
 "metadata": {
  "kernelspec": {
   "display_name": "Python 3 (ipykernel)",
   "language": "python",
   "name": "python3"
  },
  "language_info": {
   "codemirror_mode": {
    "name": "ipython",
    "version": 3
   },
   "file_extension": ".py",
   "mimetype": "text/x-python",
   "name": "python",
   "nbconvert_exporter": "python",
   "pygments_lexer": "ipython3",
   "version": "3.9.13"
  }
 },
 "nbformat": 4,
 "nbformat_minor": 5
}
